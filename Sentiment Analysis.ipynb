{
 "cells": [
  {
   "cell_type": "markdown",
   "metadata": {
    "colab_type": "text",
    "id": "KU1xlg9fwfQw"
   },
   "source": [
    "# Objetivo da tarefa\n",
    "\n",
    "O objetivo deste notebook é descrever as estratégias tomadas para o desafio de análise de textos e atribuição de valores de valência a sentenças. Foram oferecidos dois desafios: Determinação de Valência em Manchetes de Jornais Brasileiros e Determinação de Rótulos de Emoção com base nos dados oferecidos no SemEval 2007 - 4th International Workshop on Semantic Evaluations, Task 14, Affective Tests.\n",
    "\n",
    "O problema escolhido foi o de Determinação de Valência em manchetes de Jornais Brasileiros, para tal, foi oferecida uma base de manchetes de jornais como \"Valor Econômico\", \"O Globo\", \"Folha de São Paulo\" e o \"Estado de São Paulo\", extraídas em datas específicas entre os meses de Dezembro de 2016 à agosto de 2017. [1]\n",
    "\n",
    "O problema consistia em classificar as manchetes em valência positiva, neutra ou negativa. A tarefa consistia em definir uma abordagem ao problema, elaborar um modelo de classificação, definir as regras de análise e realizar a implementação prática do algoritmo definido.\n",
    "\n",
    "[1. Base de manchetes](https://github.com/pdpcosta/manchetesBrasildatabase)"
   ]
  },
  {
   "cell_type": "markdown",
   "metadata": {
    "colab_type": "text",
    "id": "Z57i3rLJwfQ4"
   },
   "source": [
    "# Escolha das Ferramentas\n",
    "\n",
    "A tarefa deixava livre a escolha das ferramentas ou linguagens de programação para a execução, implementação e validação dos algoritmos que tinham o objetivo de realizar a Análise de Sentimentos nas manchetes. Levando em consideração a facilidade da utilização da linguagem de programação Python para realizar atividades de Processamento de línguagem natural e a grande quantidade de ferramentas e bibliotecas disponível, assim como a grande quantidade de referêncial bibliográfico disponível na internet optei pela utilização da mesma.\n",
    "\n",
    "Escolhi a utilização da biblioteca Pandas para facilitar a leitura dos arquivos em estruturas de dados e pelas funções que a mesma fornece em sua extensa lista de ferramentas. Outras ferramentas necessárias para a Análise de Sentimentos serão descritas no decorrer deste notebook.\n",
    "\n",
    "# Instalação de dependências\n",
    "\n",
    "A primeira coisa que devemos fazer durante a execução deste notebook é instalar as dependências necessárias para que o projeto funcione. Um modo de fazer isso automáticamente por meio do Jupyter Notebook é realizar a instalação durante a execução das células. A maneira que temos para realizar isso é importar o módulo sys do Python e solicitar para que o sistema operacional instale os pacotes necessários por meio do gerenciador de pacotes do Python chamado \"pip\".\n",
    "\n",
    "A primeira dependência que iremos instalar é o Pandas para realizar as operações nas estruturas de dados fornecidas pelos arquivos de treinamento/teste.\n",
    "\n",
    "**É importante que o Python e as suas configurações de váriaveis de ambiente estejam configuradas para que não ocorram problemas durante este processo.**"
   ]
  },
  {
   "cell_type": "code",
   "execution_count": 2,
   "metadata": {
    "colab": {
     "base_uri": "https://localhost:8080/",
     "height": 126
    },
    "colab_type": "code",
    "executionInfo": {
     "elapsed": 3952,
     "status": "ok",
     "timestamp": 1571803018171,
     "user": {
      "displayName": "Paula Dornhofer Paro Costa",
      "photoUrl": "",
      "userId": "05781562490181730414"
     },
     "user_tz": 180
    },
    "id": "6LFbNvf3wfQ8",
    "outputId": "759690ab-70c9-4d11-b66a-cf3a3cd1dc6c"
   },
   "outputs": [
    {
     "name": "stdout",
     "output_type": "stream",
     "text": [
      "Requirement already satisfied: pandas in /usr/local/lib/python3.6/dist-packages (0.24.2)\n",
      "Requirement already satisfied: numpy>=1.12.0 in /usr/local/lib/python3.6/dist-packages (from pandas) (1.16.5)\n",
      "Requirement already satisfied: pytz>=2011k in /usr/local/lib/python3.6/dist-packages (from pandas) (2018.9)\n",
      "Requirement already satisfied: python-dateutil>=2.5.0 in /usr/local/lib/python3.6/dist-packages (from pandas) (2.5.3)\n",
      "Requirement already satisfied: six>=1.5 in /usr/local/lib/python3.6/dist-packages (from python-dateutil>=2.5.0->pandas) (1.12.0)\n"
     ]
    }
   ],
   "source": [
    "import sys\n",
    "import pandas #tenho a impressão que não seria necessário instalar\n",
    "!{sys.executable} -m pip install pandas"
   ]
  },
  {
   "cell_type": "markdown",
   "metadata": {
    "colab_type": "text",
    "id": "S35if667wfRM"
   },
   "source": [
    "# Primeiras barreiras e Estratégias de Resolução\n",
    "\n",
    "Ao realizar uma análise básica da base de dados fornecida para a tarefa foi observado que a mesma não fornece a classificação das manchetes com os rótulos (Positivo, Neutro, Negativo), desta meneira não era possível utilizar a mesma como base de treinamento e teste para a classificação das mesmas.\n",
    "\n",
    "Ao realizar uma busca na internet sobre bases rotuladas de manchetes na língua portuguesa não foram encontrados resultados aplicáveis ao problema em questão, entretanto, durante as pesquisas foi observado que uma das atividades mais recorrentes em Análise de Sentimentos na língua portuguesa era a análise de Tweets, dada as semelhanças entre os Tweets e Manchetes (tamanho reduzido da sentença, temas recorrentes como política e etc), optei pela utilização da base fornecida pelo escritor do artigo \"Análise de Sentimentos - Aprenda de uma vez por todas como funciona utilizando dados do Twitter\" [2] como conjunto de treinamento do modelo de classificação.\n",
    "\n",
    "Neste mesmo artigo, o autor descreve o passo a passo necessário para realizar Análise de Sentimentos, optei por utilizar a mesma estratégia e ferramentas que o mesmo recomendou durante a Livestream [3] onde o autor descreve as principais atividades necessárias para realizar a análise de sentimento na base de Tweets.\n",
    "\n",
    "[2. Base de Tweets Rotulada sobre política em Minas Gerais.](https://minerandodados.com.br/analise-de-sentimentos-twitter-como-fazer/)  \n",
    "[3. Livestream - Análise de Sentimentos](https://www.youtube.com/watch?v=MV-X-a84BFs)\n"
   ]
  },
  {
   "cell_type": "markdown",
   "metadata": {
    "colab_type": "text",
    "id": "qlFSu2gGwfRQ"
   },
   "source": [
    "# Implementação - Importação dos dados e limpeza da base de treinamento\n",
    "\n",
    "O primeiro passo necessário para realizar a Análise de Sentimento nos Tweets fornecidos pela base de treinamento é a leitura dos dados fornecidos por meio de um arquivo .CSV. Para tal utilizamos a funcionalidade de extração de dados fornecida pela bibliotecas Pandas para arquivos neste formanto, a função \"read_csv()\"[4] possibilita a configuração de diferentes parâmetros dada as características iniciais dos dados tais como o caractere de separação, tipo de codificação de texto, presença ou não de cabeçalhos e muitas outras possibilidades disponível na documentação da biblioteca.\n",
    "\n",
    "Dado que base de dados oferecida para o treinamento tinha características padrões de arquivos CSV, não foi necessário realizar uma configuração profunda sobre os dados presentes e a auto configuração foi o suficiente para realizar a importação dos dados.\n",
    "\n",
    "Optei por realizar uma validação rápiada para eliminar registros duplicados nos dados e utilizei a função head()[5] do objeto de DataFrame para visualizar se a extração dos dados foi realizada com sucesso, e aparentemente não houveram problemas ou ajustes necessários.\n",
    "\n",
    "[4. Documentação Pandas read_csv().](https://pandas.pydata.org/pandas-docs/stable/reference/api/pandas.read_csv.html)  \n",
    "[5. Documentação Pandas head().](https://pandas.pydata.org/pandas-docs/stable/reference/api/pandas.DataFrame.head.html)"
   ]
  },
  {
   "cell_type": "code",
   "execution_count": 0,
   "metadata": {
    "colab": {},
    "colab_type": "code",
    "id": "hByK1z79wfRT",
    "outputId": "bf85d825-ad12-4e87-b6f7-eb8522a7a933",
    "scrolled": true
   },
   "outputs": [
    {
     "data": {
      "text/html": [
       "<div>\n",
       "<style scoped>\n",
       "    .dataframe tbody tr th:only-of-type {\n",
       "        vertical-align: middle;\n",
       "    }\n",
       "\n",
       "    .dataframe tbody tr th {\n",
       "        vertical-align: top;\n",
       "    }\n",
       "\n",
       "    .dataframe thead th {\n",
       "        text-align: right;\n",
       "    }\n",
       "</style>\n",
       "<table border=\"1\" class=\"dataframe\">\n",
       "  <thead>\n",
       "    <tr style=\"text-align: right;\">\n",
       "      <th></th>\n",
       "      <th>Unnamed: 0</th>\n",
       "      <th>Created At</th>\n",
       "      <th>Text</th>\n",
       "      <th>Geo Coordinates.latitude</th>\n",
       "      <th>Geo Coordinates.longitude</th>\n",
       "      <th>User Location</th>\n",
       "      <th>Username</th>\n",
       "      <th>User Screen Name</th>\n",
       "      <th>Retweet Count</th>\n",
       "      <th>Classificacao</th>\n",
       "      <th>...</th>\n",
       "      <th>Unnamed: 15</th>\n",
       "      <th>Unnamed: 16</th>\n",
       "      <th>Unnamed: 17</th>\n",
       "      <th>Unnamed: 18</th>\n",
       "      <th>Unnamed: 19</th>\n",
       "      <th>Unnamed: 20</th>\n",
       "      <th>Unnamed: 21</th>\n",
       "      <th>Unnamed: 22</th>\n",
       "      <th>Unnamed: 23</th>\n",
       "      <th>Unnamed: 24</th>\n",
       "    </tr>\n",
       "  </thead>\n",
       "  <tbody>\n",
       "    <tr>\n",
       "      <td>0</td>\n",
       "      <td>0</td>\n",
       "      <td>Sun Jan 08 01:22:05 +0000 2017</td>\n",
       "      <td>���⛪ @ Catedral de Santo Antônio - Governador ...</td>\n",
       "      <td>NaN</td>\n",
       "      <td>NaN</td>\n",
       "      <td>Brasil</td>\n",
       "      <td>Leonardo C Schneider</td>\n",
       "      <td>LeoCSchneider</td>\n",
       "      <td>0</td>\n",
       "      <td>Neutro</td>\n",
       "      <td>...</td>\n",
       "      <td>NaN</td>\n",
       "      <td>NaN</td>\n",
       "      <td>NaN</td>\n",
       "      <td>NaN</td>\n",
       "      <td>NaN</td>\n",
       "      <td>NaN</td>\n",
       "      <td>NaN</td>\n",
       "      <td>NaN</td>\n",
       "      <td>NaN</td>\n",
       "      <td>NaN</td>\n",
       "    </tr>\n",
       "    <tr>\n",
       "      <td>1</td>\n",
       "      <td>1</td>\n",
       "      <td>Sun Jan 08 01:49:01 +0000 2017</td>\n",
       "      <td>� @ Governador Valadares, Minas Gerais https:/...</td>\n",
       "      <td>-41.9333</td>\n",
       "      <td>-18.85</td>\n",
       "      <td>NaN</td>\n",
       "      <td>Wândell</td>\n",
       "      <td>klefnews</td>\n",
       "      <td>0</td>\n",
       "      <td>Neutro</td>\n",
       "      <td>...</td>\n",
       "      <td>NaN</td>\n",
       "      <td>NaN</td>\n",
       "      <td>NaN</td>\n",
       "      <td>NaN</td>\n",
       "      <td>NaN</td>\n",
       "      <td>NaN</td>\n",
       "      <td>NaN</td>\n",
       "      <td>NaN</td>\n",
       "      <td>NaN</td>\n",
       "      <td>NaN</td>\n",
       "    </tr>\n",
       "    <tr>\n",
       "      <td>2</td>\n",
       "      <td>2</td>\n",
       "      <td>Sun Jan 08 01:01:46 +0000 2017</td>\n",
       "      <td>�� @ Governador Valadares, Minas Gerais https:...</td>\n",
       "      <td>-41.9333</td>\n",
       "      <td>-18.85</td>\n",
       "      <td>NaN</td>\n",
       "      <td>Wândell</td>\n",
       "      <td>klefnews</td>\n",
       "      <td>0</td>\n",
       "      <td>Neutro</td>\n",
       "      <td>...</td>\n",
       "      <td>NaN</td>\n",
       "      <td>NaN</td>\n",
       "      <td>NaN</td>\n",
       "      <td>NaN</td>\n",
       "      <td>NaN</td>\n",
       "      <td>NaN</td>\n",
       "      <td>NaN</td>\n",
       "      <td>NaN</td>\n",
       "      <td>NaN</td>\n",
       "      <td>NaN</td>\n",
       "    </tr>\n",
       "    <tr>\n",
       "      <td>3</td>\n",
       "      <td>3</td>\n",
       "      <td>Wed Jan 04 21:43:51 +0000 2017</td>\n",
       "      <td>��� https://t.co/BnDsO34qK0</td>\n",
       "      <td>NaN</td>\n",
       "      <td>NaN</td>\n",
       "      <td>NaN</td>\n",
       "      <td>Ana estudando</td>\n",
       "      <td>estudandoconcur</td>\n",
       "      <td>0</td>\n",
       "      <td>Neutro</td>\n",
       "      <td>...</td>\n",
       "      <td>NaN</td>\n",
       "      <td>NaN</td>\n",
       "      <td>NaN</td>\n",
       "      <td>NaN</td>\n",
       "      <td>NaN</td>\n",
       "      <td>NaN</td>\n",
       "      <td>NaN</td>\n",
       "      <td>NaN</td>\n",
       "      <td>NaN</td>\n",
       "      <td>NaN</td>\n",
       "    </tr>\n",
       "    <tr>\n",
       "      <td>4</td>\n",
       "      <td>4</td>\n",
       "      <td>Mon Jan 09 15:08:21 +0000 2017</td>\n",
       "      <td>��� PSOL vai questionar aumento de vereadores ...</td>\n",
       "      <td>NaN</td>\n",
       "      <td>NaN</td>\n",
       "      <td>NaN</td>\n",
       "      <td>Emily</td>\n",
       "      <td>Milly777</td>\n",
       "      <td>0</td>\n",
       "      <td>Negativo</td>\n",
       "      <td>...</td>\n",
       "      <td>NaN</td>\n",
       "      <td>NaN</td>\n",
       "      <td>NaN</td>\n",
       "      <td>NaN</td>\n",
       "      <td>NaN</td>\n",
       "      <td>NaN</td>\n",
       "      <td>NaN</td>\n",
       "      <td>NaN</td>\n",
       "      <td>NaN</td>\n",
       "      <td>NaN</td>\n",
       "    </tr>\n",
       "    <tr>\n",
       "      <td>5</td>\n",
       "      <td>5</td>\n",
       "      <td>Sat Jan 07 13:47:55 +0000 2017</td>\n",
       "      <td>\" bom é bandido morto\"\\nDeputado Cabo Júlio é ...</td>\n",
       "      <td>NaN</td>\n",
       "      <td>NaN</td>\n",
       "      <td>Um Outro Mundo É Possível</td>\n",
       "      <td>Maristela Guimarães</td>\n",
       "      <td>florpimenta</td>\n",
       "      <td>0</td>\n",
       "      <td>Neutro</td>\n",
       "      <td>...</td>\n",
       "      <td>NaN</td>\n",
       "      <td>NaN</td>\n",
       "      <td>NaN</td>\n",
       "      <td>NaN</td>\n",
       "      <td>NaN</td>\n",
       "      <td>NaN</td>\n",
       "      <td>NaN</td>\n",
       "      <td>NaN</td>\n",
       "      <td>NaN</td>\n",
       "      <td>NaN</td>\n",
       "    </tr>\n",
       "    <tr>\n",
       "      <td>6</td>\n",
       "      <td>6</td>\n",
       "      <td>Wed Jan 04 23:00:53 +0000 2017</td>\n",
       "      <td>\"..E 25% dos mineiros dizem não torcer para ti...</td>\n",
       "      <td>NaN</td>\n",
       "      <td>NaN</td>\n",
       "      <td>NaN</td>\n",
       "      <td>Adriano</td>\n",
       "      <td>almanakfc</td>\n",
       "      <td>0</td>\n",
       "      <td>Neutro</td>\n",
       "      <td>...</td>\n",
       "      <td>NaN</td>\n",
       "      <td>NaN</td>\n",
       "      <td>NaN</td>\n",
       "      <td>NaN</td>\n",
       "      <td>NaN</td>\n",
       "      <td>NaN</td>\n",
       "      <td>NaN</td>\n",
       "      <td>NaN</td>\n",
       "      <td>NaN</td>\n",
       "      <td>NaN</td>\n",
       "    </tr>\n",
       "    <tr>\n",
       "      <td>7</td>\n",
       "      <td>7</td>\n",
       "      <td>Sun Jan 08 18:34:22 +0000 2017</td>\n",
       "      <td>\"A gigantesca barba do mal\" em destaque no cad...</td>\n",
       "      <td>NaN</td>\n",
       "      <td>NaN</td>\n",
       "      <td>Belo Horizonte, Brasil</td>\n",
       "      <td>Editora Nemo</td>\n",
       "      <td>editoranemo</td>\n",
       "      <td>2</td>\n",
       "      <td>Neutro</td>\n",
       "      <td>...</td>\n",
       "      <td>NaN</td>\n",
       "      <td>NaN</td>\n",
       "      <td>NaN</td>\n",
       "      <td>NaN</td>\n",
       "      <td>NaN</td>\n",
       "      <td>NaN</td>\n",
       "      <td>NaN</td>\n",
       "      <td>NaN</td>\n",
       "      <td>NaN</td>\n",
       "      <td>NaN</td>\n",
       "    </tr>\n",
       "    <tr>\n",
       "      <td>8</td>\n",
       "      <td>8</td>\n",
       "      <td>Wed Jan 04 22:55:08 +0000 2017</td>\n",
       "      <td>\"BB e governo de Minas travam disputa sobre de...</td>\n",
       "      <td>NaN</td>\n",
       "      <td>NaN</td>\n",
       "      <td>NaN</td>\n",
       "      <td>Minas Previ</td>\n",
       "      <td>MinasPrevi</td>\n",
       "      <td>0</td>\n",
       "      <td>Negativo</td>\n",
       "      <td>...</td>\n",
       "      <td>NaN</td>\n",
       "      <td>NaN</td>\n",
       "      <td>NaN</td>\n",
       "      <td>NaN</td>\n",
       "      <td>NaN</td>\n",
       "      <td>NaN</td>\n",
       "      <td>NaN</td>\n",
       "      <td>NaN</td>\n",
       "      <td>NaN</td>\n",
       "      <td>NaN</td>\n",
       "    </tr>\n",
       "    <tr>\n",
       "      <td>9</td>\n",
       "      <td>9</td>\n",
       "      <td>Sat Jan 07 01:37:10 +0000 2017</td>\n",
       "      <td>\"com vcs bh fica pequena!\" Belo Horizonte (pro...</td>\n",
       "      <td>NaN</td>\n",
       "      <td>NaN</td>\n",
       "      <td>Belo Horizonte - MG</td>\n",
       "      <td>Marina.</td>\n",
       "      <td>mmarinaey</td>\n",
       "      <td>0</td>\n",
       "      <td>Neutro</td>\n",
       "      <td>...</td>\n",
       "      <td>NaN</td>\n",
       "      <td>NaN</td>\n",
       "      <td>NaN</td>\n",
       "      <td>NaN</td>\n",
       "      <td>NaN</td>\n",
       "      <td>NaN</td>\n",
       "      <td>NaN</td>\n",
       "      <td>NaN</td>\n",
       "      <td>NaN</td>\n",
       "      <td>NaN</td>\n",
       "    </tr>\n",
       "  </tbody>\n",
       "</table>\n",
       "<p>10 rows × 26 columns</p>\n",
       "</div>"
      ],
      "text/plain": [
       "   Unnamed: 0                      Created At  \\\n",
       "0           0  Sun Jan 08 01:22:05 +0000 2017   \n",
       "1           1  Sun Jan 08 01:49:01 +0000 2017   \n",
       "2           2  Sun Jan 08 01:01:46 +0000 2017   \n",
       "3           3  Wed Jan 04 21:43:51 +0000 2017   \n",
       "4           4  Mon Jan 09 15:08:21 +0000 2017   \n",
       "5           5  Sat Jan 07 13:47:55 +0000 2017   \n",
       "6           6  Wed Jan 04 23:00:53 +0000 2017   \n",
       "7           7  Sun Jan 08 18:34:22 +0000 2017   \n",
       "8           8  Wed Jan 04 22:55:08 +0000 2017   \n",
       "9           9  Sat Jan 07 01:37:10 +0000 2017   \n",
       "\n",
       "                                                Text  \\\n",
       "0  ���⛪ @ Catedral de Santo Antônio - Governador ...   \n",
       "1  � @ Governador Valadares, Minas Gerais https:/...   \n",
       "2  �� @ Governador Valadares, Minas Gerais https:...   \n",
       "3                        ��� https://t.co/BnDsO34qK0   \n",
       "4  ��� PSOL vai questionar aumento de vereadores ...   \n",
       "5  \" bom é bandido morto\"\\nDeputado Cabo Júlio é ...   \n",
       "6  \"..E 25% dos mineiros dizem não torcer para ti...   \n",
       "7  \"A gigantesca barba do mal\" em destaque no cad...   \n",
       "8  \"BB e governo de Minas travam disputa sobre de...   \n",
       "9  \"com vcs bh fica pequena!\" Belo Horizonte (pro...   \n",
       "\n",
       "   Geo Coordinates.latitude  Geo Coordinates.longitude  \\\n",
       "0                       NaN                        NaN   \n",
       "1                  -41.9333                     -18.85   \n",
       "2                  -41.9333                     -18.85   \n",
       "3                       NaN                        NaN   \n",
       "4                       NaN                        NaN   \n",
       "5                       NaN                        NaN   \n",
       "6                       NaN                        NaN   \n",
       "7                       NaN                        NaN   \n",
       "8                       NaN                        NaN   \n",
       "9                       NaN                        NaN   \n",
       "\n",
       "                User Location              Username User Screen Name  \\\n",
       "0                      Brasil  Leonardo C Schneider    LeoCSchneider   \n",
       "1                         NaN               Wândell         klefnews   \n",
       "2                         NaN               Wândell         klefnews   \n",
       "3                         NaN         Ana estudando  estudandoconcur   \n",
       "4                         NaN                 Emily         Milly777   \n",
       "5  Um Outro Mundo É Possível    Maristela Guimarães      florpimenta   \n",
       "6                         NaN               Adriano        almanakfc   \n",
       "7      Belo Horizonte, Brasil          Editora Nemo      editoranemo   \n",
       "8                         NaN           Minas Previ       MinasPrevi   \n",
       "9         Belo Horizonte - MG               Marina.        mmarinaey   \n",
       "\n",
       "   Retweet Count Classificacao  ... Unnamed: 15  Unnamed: 16  Unnamed: 17  \\\n",
       "0              0        Neutro  ...         NaN          NaN          NaN   \n",
       "1              0        Neutro  ...         NaN          NaN          NaN   \n",
       "2              0        Neutro  ...         NaN          NaN          NaN   \n",
       "3              0        Neutro  ...         NaN          NaN          NaN   \n",
       "4              0      Negativo  ...         NaN          NaN          NaN   \n",
       "5              0        Neutro  ...         NaN          NaN          NaN   \n",
       "6              0        Neutro  ...         NaN          NaN          NaN   \n",
       "7              2        Neutro  ...         NaN          NaN          NaN   \n",
       "8              0      Negativo  ...         NaN          NaN          NaN   \n",
       "9              0        Neutro  ...         NaN          NaN          NaN   \n",
       "\n",
       "   Unnamed: 18  Unnamed: 19  Unnamed: 20  Unnamed: 21  Unnamed: 22  \\\n",
       "0          NaN          NaN          NaN          NaN          NaN   \n",
       "1          NaN          NaN          NaN          NaN          NaN   \n",
       "2          NaN          NaN          NaN          NaN          NaN   \n",
       "3          NaN          NaN          NaN          NaN          NaN   \n",
       "4          NaN          NaN          NaN          NaN          NaN   \n",
       "5          NaN          NaN          NaN          NaN          NaN   \n",
       "6          NaN          NaN          NaN          NaN          NaN   \n",
       "7          NaN          NaN          NaN          NaN          NaN   \n",
       "8          NaN          NaN          NaN          NaN          NaN   \n",
       "9          NaN          NaN          NaN          NaN          NaN   \n",
       "\n",
       "   Unnamed: 23  Unnamed: 24  \n",
       "0          NaN          NaN  \n",
       "1          NaN          NaN  \n",
       "2          NaN          NaN  \n",
       "3          NaN          NaN  \n",
       "4          NaN          NaN  \n",
       "5          NaN          NaN  \n",
       "6          NaN          NaN  \n",
       "7          NaN          NaN  \n",
       "8          NaN          NaN  \n",
       "9          NaN          NaN  \n",
       "\n",
       "[10 rows x 26 columns]"
      ]
     },
     "execution_count": 2,
     "metadata": {
      "tags": []
     },
     "output_type": "execute_result"
    }
   ],
   "source": [
    "import pandas as pd \n",
    "\n",
    "df = pd.read_csv('Tweets_Mg.csv', encoding='utf-8')\n",
    "df.drop_duplicates(['Text'], inplace=True)\n",
    "df.head(n=10)"
   ]
  },
  {
   "cell_type": "markdown",
   "metadata": {
    "colab_type": "text",
    "id": "6Gk5hi-KwfRc"
   },
   "source": [
    "Com o objetivo de verificar a quantidade de noticias positivas, neutras e negativas dentro do conjunto de dados podemos utilizar o método **value_counts()** do conjunto de DataFrame do Pandas."
   ]
  },
  {
   "cell_type": "code",
   "execution_count": 0,
   "metadata": {
    "colab": {},
    "colab_type": "code",
    "id": "Dup73RZfwfRf",
    "outputId": "4704ed81-9cd5-405f-d966-ba64e0f10dff"
   },
   "outputs": [
    {
     "data": {
      "text/plain": [
       "Positivo    2840\n",
       "Neutro      1974\n",
       "Negativo     951\n",
       "Name: Classificacao, dtype: int64"
      ]
     },
     "execution_count": 3,
     "metadata": {
      "tags": []
     },
     "output_type": "execute_result"
    }
   ],
   "source": [
    "df.Classificacao.value_counts()"
   ]
  },
  {
   "cell_type": "markdown",
   "metadata": {
    "colab_type": "text",
    "id": "c5KvFkj5wfRm"
   },
   "source": [
    "# Implementação - Pré-processamento dos dados\n",
    "\n",
    "O próximo passo para realizar a Análise de Sentimento é o pré-processamento dos dados com o objetivo de realizar uma limpeza das características que não agregam valor a análise. A **imagem seguinte*** apresenta os passos necessários para realizar a análise de sentimento e em seguida serão descritas as funções de cada uma dessas etapas.\n",
    "\n",
    "![Passos para a análise de sentimento.](https://miro.medium.com/max/361/0*ga5rNPmVYBsCm-lz.)\n",
    "\n",
    "1. **Tokenization:** processo de quebrar o texto em um array de palavras;\n",
    "2. **Stop Word Filtering:** processo de eliminar palavras consideradas irrelevantes para o conjunto de dados de análise;\n",
    "3. **Negation Handling:** processo de tratativa de negações para o contexto da frase;\n",
    "4. **Stemming:** processo de reduzir as palavras à sua raíz;\n",
    "5. **Classification:** processo de construção de um modelo de classificação das sentenças dentro de um conjunto de classes;\n",
    "6. **Sentiment Class:** frases já classificadas dado o conjunto de características/classes definidos.\n",
    "\n",
    "[*Referência: A Sentiment Analysis Approach to Predicting Stock Returns](https://medium.com/@tomyuz/a-sentiment-analysis-approach-to-predicting-stock-returns-d5ca8b75a42)"
   ]
  },
  {
   "cell_type": "markdown",
   "metadata": {
    "colab_type": "text",
    "id": "Z6oI5KBjwfRo"
   },
   "source": [
    "Dentro do conjunto de dados que temos disponível na base de treinamento, temos os textos dos Tweets na coluna de nome **\"Text\"** e as classes (positivo, neutro, negativo) na coluna de nome **\"Classificacao\"**."
   ]
  },
  {
   "cell_type": "code",
   "execution_count": 0,
   "metadata": {
    "colab": {},
    "colab_type": "code",
    "id": "GGHTItQOwfRq"
   },
   "outputs": [],
   "source": [
    "tweets = df['Text']\n",
    "classes = df['Classificacao']"
   ]
  },
  {
   "cell_type": "markdown",
   "metadata": {
    "colab_type": "text",
    "id": "uDHFxORmwfR0"
   },
   "source": [
    "O próximo passo é criar funções que realizem as etapas principais na análise de sentimento e para tal precisamos que a biblioteca **\"nltk\"** seja instalada e em seguida que a mesma gerencie as dependências necessárias para realizar as etapas de pré-processamento dos dados (stopwords, rslp, wordnet).\n",
    "\n",
    "Para tal iremos realizar a mesma função de solicitar ao sistema operacional a instalação da biblioteca **\"nltk\"**."
   ]
  },
  {
   "cell_type": "code",
   "execution_count": 0,
   "metadata": {
    "colab": {},
    "colab_type": "code",
    "id": "Q7cnC7VEwfR0",
    "outputId": "a0cca84a-5d29-460d-bd1b-5cba4c40be7e"
   },
   "outputs": [
    {
     "name": "stdout",
     "output_type": "stream",
     "text": [
      "Requirement already satisfied: nltk in /home/nathan/.local/lib/python3.7/site-packages (3.4.5)\n",
      "Requirement already satisfied: six in /usr/lib/python3/dist-packages (from nltk) (1.12.0)\n"
     ]
    }
   ],
   "source": [
    "import sys\n",
    "!{sys.executable} -m pip install nltk"
   ]
  },
  {
   "cell_type": "markdown",
   "metadata": {
    "colab_type": "text",
    "id": "xnmPLurwwfR8"
   },
   "source": [
    "Em seguida executaremos a instalação das dependências necessárias para as funções descritas abaixo."
   ]
  },
  {
   "cell_type": "code",
   "execution_count": 0,
   "metadata": {
    "colab": {},
    "colab_type": "code",
    "id": "PGbUiR4AwfR-",
    "outputId": "8aef1a48-6784-41de-dd55-72be716a73c7"
   },
   "outputs": [
    {
     "name": "stderr",
     "output_type": "stream",
     "text": [
      "[nltk_data] Downloading package stopwords to /home/nathan/nltk_data...\n",
      "[nltk_data]   Package stopwords is already up-to-date!\n",
      "[nltk_data] Downloading package rslp to /home/nathan/nltk_data...\n",
      "[nltk_data]   Package rslp is already up-to-date!\n"
     ]
    },
    {
     "data": {
      "text/plain": [
       "True"
      ]
     },
     "execution_count": 6,
     "metadata": {
      "tags": []
     },
     "output_type": "execute_result"
    }
   ],
   "source": [
    "import re\n",
    "import nltk\n",
    "nltk.download('stopwords')\n",
    "nltk.download('rslp')"
   ]
  },
  {
   "cell_type": "markdown",
   "metadata": {
    "colab_type": "text",
    "id": "iDg4LpgpwfSE"
   },
   "source": [
    "## Remoção de Stop Words, Stemming e Limpeza de Dados\n",
    "\n",
    "Para realizar a remoção de stop words e o processo de stemming, iremos utilizar o conjunto de stop words disponível no corpus em português da biblioteca **nltk***. O NLTK oferece para a lingua portuguesa um conjunto de ferramentas extenso e bem documentado que é desenvolvido pela comunidade que utiliza a biblioteca dada as suas características de OpenSource.\n",
    "\n",
    "[*Referência: Examples For Portuguese Processing](http://www.nltk.org/howto/portuguese_en.html)  \n",
    "[*Referência: nltk.stem.rslp](https://www.nltk.org/_modules/nltk/stem/rslp.html)\n"
   ]
  },
  {
   "cell_type": "markdown",
   "metadata": {
    "colab_type": "text",
    "id": "TmhzbfjcwfSG"
   },
   "source": [
    "A função **\"Preprocessing()\"** têm como objetivo executar os passos de limpeza das sentenças a serem processadas realizado uma limpeza de links e pontuações por meio de Expressões Regulares, em seguida aplica a limpeza de Stop Words com base no corpus em Português e por fim realiza o processo de Stemming nas frases para que os dados sejam preparados para o modelo."
   ]
  },
  {
   "cell_type": "code",
   "execution_count": 0,
   "metadata": {
    "colab": {},
    "colab_type": "code",
    "id": "XvGE60RnwfSI"
   },
   "outputs": [],
   "source": [
    "def Preprocessing(instancia):\n",
    "    stemmer = nltk.stem.RSLPStemmer()\n",
    "    instancia = re.sub(r\"http\\S+\", \"\", instancia).lower().replace('.','').replace(';','').replace('-','').replace(':','').replace(')','')\n",
    "    stopwords = set(nltk.corpus.stopwords.words('portuguese'))\n",
    "    palavras = [stemmer.stem(i) for i in instancia.split() if not i in stopwords]\n",
    "    return (\" \".join(palavras))"
   ]
  },
  {
   "cell_type": "markdown",
   "metadata": {
    "colab_type": "text",
    "id": "eKim54hJwfSO"
   },
   "source": [
    "Aplicamos então o filtro de pré-processamento dos dados para os Tweets."
   ]
  },
  {
   "cell_type": "code",
   "execution_count": 0,
   "metadata": {
    "colab": {},
    "colab_type": "code",
    "id": "c7QO3TlMwfSR"
   },
   "outputs": [],
   "source": [
    "tweets = [Preprocessing(i) for i in tweets]"
   ]
  },
  {
   "cell_type": "markdown",
   "metadata": {
    "colab_type": "text",
    "id": "jnNBl0uLwfSX"
   },
   "source": [
    "# Criando e treinando o modelo com a base do Twitter\n",
    "\n",
    "O próximo passo é realizar a instalação da biblioteca **scikit-learn***, a mesma é um conjunto de ferramentas de data-mining e pode ser aplicado em diversos tipos de modelos de aprendizagem de máquina. O **scikit-learn** oferece alguns modelos de classificação, regressão, clusterização, redução de dimensionalidade, visualização e pré-processamentos.\n",
    "\n",
    "Dadas as características do problema de classificar as noticias no contexto de Análise de Sentimento, optei por utilizar a técnica de classificação baseado no teorema de Naive Bayes, o mesmo é um classificador que assume que a presença de uma característica particular em uma classe não é relacionado com a presença de qualquer outro recurso e está disponível nas ferramentas do **scikit-learn**.\n",
    "\n",
    "Os classificadores Naive Bayes são utilizados principalmente em classificação de textos (devido a um melhor resultado em problemas de classes múltiplas e regra de independência) e têm maior taxa de sucesso em comparação com outros algoritmos, sendo este o motivo por ter sido escolhido.\n",
    "\n",
    "A implementação de Naive Bayes escolhida foi a de **multinomial***, pois é amplamente utilizado na classificação de features discretas (quantidade de palavras no texto utilizadas para classificação), sendo que na implementação utilizei um \"vetor de contagem\" **(CountVectorizer)*** aplicado as palavras recorrentes. \n",
    "\n",
    "Foi utilizado também o **TweetTokenizer()** da biblioteca **nltk**, dado que este método oferece um método de tokenização (divisão da sentença em palavras) preparado para lidar com o tipo de linguagem e características presentes na rede social Twitter.\n",
    "\n",
    "[*Referência: scikit-learn](https://scikit-learn.org/stable/index.html)  \n",
    "[*Referência: 6 passos fáceis para aprender o algoritmo Naive Bayes (com o código em Python)](https://www.vooo.pro/insights/6-passos-faceis-para-aprender-o-algoritmo-naive-bayes-com-o-codigo-em-python/)  \n",
    "[*Referência: sklearn.naive_bayes.MultinomialNB](https://scikit-learn.org/stable/modules/generated/sklearn.naive_bayes.MultinomialNB.html)  \n",
    "[*Referência: sklearn.feature_extraction.text.CountVectorizer](https://scikit-learn.org/stable/modules/generated/sklearn.feature_extraction.text.CountVectorizer.html)  \n",
    "[*Referência: nltk.tokenize package](https://www.nltk.org/api/nltk.tokenize.html)  \n",
    "\n",
    "\n",
    "\n"
   ]
  },
  {
   "cell_type": "code",
   "execution_count": 0,
   "metadata": {
    "colab": {},
    "colab_type": "code",
    "id": "nt8dXZOmwfSZ",
    "outputId": "6d77ac1c-b795-4ea2-88df-fc4c9f5f55fe"
   },
   "outputs": [
    {
     "name": "stdout",
     "output_type": "stream",
     "text": [
      "Requirement already satisfied: sklearn in /home/nathan/.local/lib/python3.7/site-packages (0.0)\r\n",
      "Requirement already satisfied: scikit-learn in /home/nathan/.local/lib/python3.7/site-packages (from sklearn) (0.21.3)\r\n",
      "Requirement already satisfied: joblib>=0.11 in /home/nathan/.local/lib/python3.7/site-packages (from scikit-learn->sklearn) (0.13.2)\r\n",
      "Requirement already satisfied: scipy>=0.17.0 in /home/nathan/.local/lib/python3.7/site-packages (from scikit-learn->sklearn) (1.3.1)\r\n",
      "Requirement already satisfied: numpy>=1.11.0 in /home/nathan/.local/lib/python3.7/site-packages (from scikit-learn->sklearn) (1.17.2)\r\n"
     ]
    }
   ],
   "source": [
    "import sys\n",
    "!{sys.executable} -m pip install sklearn\n",
    "\n",
    "from nltk.tokenize import TweetTokenizer\n",
    "from sklearn.feature_extraction.text import CountVectorizer\n",
    "from sklearn.naive_bayes import MultinomialNB"
   ]
  },
  {
   "cell_type": "markdown",
   "metadata": {
    "colab_type": "text",
    "id": "wFVJrURFwfSe"
   },
   "source": [
    "Criamos a instância do tokenizador preparado para lidar com Tweets, criamos o vetor de contagem analisando as palavras das sentenças que serão atribuídas utilizando como \"tokenizer\" a instância criada.\n",
    "\n",
    "Em seguida, aplicamos os tweets a função que cria o vetor de contagem de palavras, instânciamos o modelo de Naive Bayes Multinomial e aplicamos o vetor de palavras e as classes disponíveis extraídas anteriormente (positivo, neutro, negativo) ajustando o modelo de Naive Bayes para o as palavras existentes no conjunto de treinamento.\n"
   ]
  },
  {
   "cell_type": "code",
   "execution_count": 0,
   "metadata": {
    "colab": {},
    "colab_type": "code",
    "id": "mBq1lIEhwfSf",
    "outputId": "482e8beb-b0ed-498e-ecbd-ab18f436dd1e"
   },
   "outputs": [
    {
     "data": {
      "text/plain": [
       "MultinomialNB(alpha=1.0, class_prior=None, fit_prior=True)"
      ]
     },
     "execution_count": 10,
     "metadata": {
      "tags": []
     },
     "output_type": "execute_result"
    }
   ],
   "source": [
    "tweet_tokenizer = TweetTokenizer()\n",
    "\n",
    "vectorizer = CountVectorizer(analyzer=\"word\", tokenizer=tweet_tokenizer.tokenize)\n",
    "freq_tweets = vectorizer.fit_transform(tweets)\n",
    "modelo = MultinomialNB()\n",
    "modelo.fit(freq_tweets,classes)"
   ]
  },
  {
   "cell_type": "markdown",
   "metadata": {
    "colab_type": "text",
    "id": "h9BSNlMLwfSn"
   },
   "source": [
    "# Verificando os resultados com a base de Treinamento"
   ]
  },
  {
   "cell_type": "markdown",
   "metadata": {
    "colab_type": "text",
    "id": "E7_eboidwfSo"
   },
   "source": [
    "A fim de validar se o modelo criado está realmente seguindo as classificações adequadas para cada uma das noticias, podemos aplicar a predição do modelo diretamente nos dados de treinamento e verificar se os resultados coincidem com a classificação original da base."
   ]
  },
  {
   "cell_type": "code",
   "execution_count": 0,
   "metadata": {
    "colab": {},
    "colab_type": "code",
    "id": "_cL_nMY-wfSq",
    "outputId": "7751c94e-e999-4ad3-ec81-1cf9ea6cc2e7"
   },
   "outputs": [
    {
     "data": {
      "text/plain": [
       "['���⛪ @ catedr sant antôni govern valadares/mg',\n",
       " '� @ govern valadares, min geral',\n",
       " '�� @ govern valadares, min geral',\n",
       " '���',\n",
       " '��� psol vai quest aument vere prefeit bh justiç poli est min',\n",
       " '\" bom band morto\" deput cab júli conden fic ineleg 10 ano poli est min',\n",
       " '\"e 25% min diz torc tim nenhum,mesm dentr est atléticomg cruz pq?\"',\n",
       " '\"a gigantesc barb mal\" destaqu cadern cult est min',\n",
       " '\"bb govern min tr disput sobr depósit judiciais\"',\n",
       " '\"com vc bh fic pequena!\" bel horizont (pron [bɛloɾiˈzõntʃi][10] capit est mg, áre aproximad 331 km²']"
      ]
     },
     "execution_count": 11,
     "metadata": {
      "tags": []
     },
     "output_type": "execute_result"
    }
   ],
   "source": [
    "treinamento = tweets\n",
    "treinamento[:10]"
   ]
  },
  {
   "cell_type": "markdown",
   "metadata": {
    "colab_type": "text",
    "id": "xiGsk-0ewfSw"
   },
   "source": [
    "Aplicamos o vetorizador para o conjunto de treinamento."
   ]
  },
  {
   "cell_type": "code",
   "execution_count": 0,
   "metadata": {
    "colab": {},
    "colab_type": "code",
    "id": "YoblSPUEwfSz"
   },
   "outputs": [],
   "source": [
    "freq_treinamento = vectorizer.transform(treinamento)"
   ]
  },
  {
   "cell_type": "markdown",
   "metadata": {
    "colab_type": "text",
    "id": "4Tk51Eq0wfS3"
   },
   "source": [
    "Por fim, para cada Tweet do modelo, predizemos o resultado e apresentamos junto da noticia."
   ]
  },
  {
   "cell_type": "code",
   "execution_count": 0,
   "metadata": {
    "colab": {},
    "colab_type": "code",
    "id": "1_yIcmw9wfS4"
   },
   "outputs": [],
   "source": [
    "for t, c in zip (treinamento, modelo.predict(freq_treinamento)):\n",
    "    #print (\"Tweet: \" + t + \" - Classificação: \" + c)\n",
    "    pass"
   ]
  },
  {
   "cell_type": "markdown",
   "metadata": {
    "colab_type": "text",
    "id": "0YIyJayrwfS-"
   },
   "source": [
    "Podemos verificar abaixo que a predição do modelo segue à risca os resultados da classificação feita na base rotulada e portanto o treinamento foi um sucesso."
   ]
  },
  {
   "cell_type": "code",
   "execution_count": 0,
   "metadata": {
    "colab": {},
    "colab_type": "code",
    "id": "SyN3uh-3wfTA",
    "outputId": "af21595d-d63a-484c-e817-a223309c3d86"
   },
   "outputs": [
    {
     "name": "stdout",
     "output_type": "stream",
     "text": [
      "['Negativo' 'Neutro' 'Positivo']\n"
     ]
    },
    {
     "data": {
      "text/plain": [
       "array([[0., 1., 0.],\n",
       "       [0., 1., 0.],\n",
       "       [0., 1., 0.],\n",
       "       ...,\n",
       "       [0., 0., 1.],\n",
       "       [0., 0., 1.],\n",
       "       [0., 0., 1.]])"
      ]
     },
     "execution_count": 14,
     "metadata": {
      "tags": []
     },
     "output_type": "execute_result"
    }
   ],
   "source": [
    "print (modelo.classes_)\n",
    "modelo.predict_proba(freq_treinamento).round(2)"
   ]
  },
  {
   "cell_type": "markdown",
   "metadata": {
    "colab_type": "text",
    "id": "qcfJrYq_wfTF"
   },
   "source": [
    "# Testando com a base de manchetes\n",
    "\n",
    "Dado que o nosso modelo está treinado para a Análise de Sentimentos com os dados extraídos do Twitter, iremos aplicar agora o modelo para as manchetes que foram selecionadas para validação dos resultados. Para tal, seguimos os mesmos passos anteriormente explicados para a extração das manchetes com o uso do leitor de CSV do Pandas. \n",
    "\n",
    "Nesta etapa, tivemos que realizar algumas parametrizações do extrator, pois, o arquivo CSV apresentava como  caractere separador a vírgula e tinha como caractere de definição de uma String as aspas simples. A base também não apresentava o nome das colunas de cabeçalho e portanto foram criados rótulos para as mesmas."
   ]
  },
  {
   "cell_type": "code",
   "execution_count": 0,
   "metadata": {
    "colab": {},
    "colab_type": "code",
    "id": "bTGy6T4uwfTH",
    "outputId": "cb9e6b4f-2833-4c22-bd28-1097bc3a713c"
   },
   "outputs": [
    {
     "data": {
      "text/html": [
       "<div>\n",
       "<style scoped>\n",
       "    .dataframe tbody tr th:only-of-type {\n",
       "        vertical-align: middle;\n",
       "    }\n",
       "\n",
       "    .dataframe tbody tr th {\n",
       "        vertical-align: top;\n",
       "    }\n",
       "\n",
       "    .dataframe thead th {\n",
       "        text-align: right;\n",
       "    }\n",
       "</style>\n",
       "<table border=\"1\" class=\"dataframe\">\n",
       "  <thead>\n",
       "    <tr style=\"text-align: right;\">\n",
       "      <th></th>\n",
       "      <th>dia</th>\n",
       "      <th>mes</th>\n",
       "      <th>ano</th>\n",
       "      <th>origem</th>\n",
       "      <th>manchete</th>\n",
       "    </tr>\n",
       "  </thead>\n",
       "  <tbody>\n",
       "    <tr>\n",
       "      <td>0</td>\n",
       "      <td>1</td>\n",
       "      <td>fevereiro</td>\n",
       "      <td>2017</td>\n",
       "      <td>Valor</td>\n",
       "      <td>BNDES encolhe e volta ao nível de 20 anos atrás</td>\n",
       "    </tr>\n",
       "    <tr>\n",
       "      <td>1</td>\n",
       "      <td>1</td>\n",
       "      <td>fevereiro</td>\n",
       "      <td>2017</td>\n",
       "      <td>Valor</td>\n",
       "      <td>BC cria novo instrumento de política monetária.</td>\n",
       "    </tr>\n",
       "    <tr>\n",
       "      <td>2</td>\n",
       "      <td>1</td>\n",
       "      <td>fevereiro</td>\n",
       "      <td>2017</td>\n",
       "      <td>Valor</td>\n",
       "      <td>Câmbio gera bate-boca entre UA e UE.</td>\n",
       "    </tr>\n",
       "    <tr>\n",
       "      <td>3</td>\n",
       "      <td>1</td>\n",
       "      <td>fevereiro</td>\n",
       "      <td>2017</td>\n",
       "      <td>Valor</td>\n",
       "      <td>Indenização a transmissoras de energia já cheg...</td>\n",
       "    </tr>\n",
       "    <tr>\n",
       "      <td>4</td>\n",
       "      <td>1</td>\n",
       "      <td>fevereiro</td>\n",
       "      <td>2017</td>\n",
       "      <td>Valor</td>\n",
       "      <td>Políticos esperam que relator separe \"joio do ...</td>\n",
       "    </tr>\n",
       "    <tr>\n",
       "      <td>5</td>\n",
       "      <td>1</td>\n",
       "      <td>fevereiro</td>\n",
       "      <td>2017</td>\n",
       "      <td>Valor</td>\n",
       "      <td>Philips quer administrar hospitais públicos no...</td>\n",
       "    </tr>\n",
       "    <tr>\n",
       "      <td>6</td>\n",
       "      <td>1</td>\n",
       "      <td>fevereiro</td>\n",
       "      <td>2017</td>\n",
       "      <td>Valor</td>\n",
       "      <td>Com vendas em queda, C&amp;amp;C muda lojas e troc...</td>\n",
       "    </tr>\n",
       "    <tr>\n",
       "      <td>7</td>\n",
       "      <td>1</td>\n",
       "      <td>fevereiro</td>\n",
       "      <td>2017</td>\n",
       "      <td>Globo</td>\n",
       "      <td>Fachin poderá ir para turma que julga Lava-Jato.</td>\n",
       "    </tr>\n",
       "    <tr>\n",
       "      <td>8</td>\n",
       "      <td>1</td>\n",
       "      <td>fevereiro</td>\n",
       "      <td>2017</td>\n",
       "      <td>Globo</td>\n",
       "      <td>Eike tem multas que superam fundo para prisões.</td>\n",
       "    </tr>\n",
       "    <tr>\n",
       "      <td>9</td>\n",
       "      <td>1</td>\n",
       "      <td>fevereiro</td>\n",
       "      <td>2017</td>\n",
       "      <td>Globo</td>\n",
       "      <td>Operador pagou decoração de luxo de imóveis de...</td>\n",
       "    </tr>\n",
       "    <tr>\n",
       "      <td>10</td>\n",
       "      <td>1</td>\n",
       "      <td>fevereiro</td>\n",
       "      <td>2017</td>\n",
       "      <td>Globo</td>\n",
       "      <td>Drama do desemprego está longe de diminuir.</td>\n",
       "    </tr>\n",
       "    <tr>\n",
       "      <td>11</td>\n",
       "      <td>1</td>\n",
       "      <td>fevereiro</td>\n",
       "      <td>2017</td>\n",
       "      <td>Globo</td>\n",
       "      <td>BC prevê queda da inflação a 3%.</td>\n",
       "    </tr>\n",
       "    <tr>\n",
       "      <td>12</td>\n",
       "      <td>1</td>\n",
       "      <td>fevereiro</td>\n",
       "      <td>2017</td>\n",
       "      <td>Globo</td>\n",
       "      <td>Boicote atrasa governo Trump.</td>\n",
       "    </tr>\n",
       "    <tr>\n",
       "      <td>13</td>\n",
       "      <td>1</td>\n",
       "      <td>fevereiro</td>\n",
       "      <td>2017</td>\n",
       "      <td>Globo</td>\n",
       "      <td>Crivella negocia Vila dos Atletas.</td>\n",
       "    </tr>\n",
       "    <tr>\n",
       "      <td>14</td>\n",
       "      <td>1</td>\n",
       "      <td>fevereiro</td>\n",
       "      <td>2017</td>\n",
       "      <td>Folha</td>\n",
       "      <td>Crise amplia diferença de salário entre CLT e ...</td>\n",
       "    </tr>\n",
       "    <tr>\n",
       "      <td>15</td>\n",
       "      <td>1</td>\n",
       "      <td>fevereiro</td>\n",
       "      <td>2017</td>\n",
       "      <td>Folha</td>\n",
       "      <td>Governo faz cortes após déficit recorde de R$ ...</td>\n",
       "    </tr>\n",
       "    <tr>\n",
       "      <td>16</td>\n",
       "      <td>1</td>\n",
       "      <td>fevereiro</td>\n",
       "      <td>2017</td>\n",
       "      <td>Folha</td>\n",
       "      <td>Vitória é dada como certa no Senado, e PMDB mi...</td>\n",
       "    </tr>\n",
       "    <tr>\n",
       "      <td>17</td>\n",
       "      <td>1</td>\n",
       "      <td>fevereiro</td>\n",
       "      <td>2017</td>\n",
       "      <td>Folha</td>\n",
       "      <td>Operador diz que repatriou propina de Eike a C...</td>\n",
       "    </tr>\n",
       "    <tr>\n",
       "      <td>18</td>\n",
       "      <td>1</td>\n",
       "      <td>fevereiro</td>\n",
       "      <td>2017</td>\n",
       "      <td>Folha</td>\n",
       "      <td>Doria quer punir pichadores com multa pesada e...</td>\n",
       "    </tr>\n",
       "    <tr>\n",
       "      <td>19</td>\n",
       "      <td>1</td>\n",
       "      <td>fevereiro</td>\n",
       "      <td>2017</td>\n",
       "      <td>Folha</td>\n",
       "      <td>Pedro Parente: Brasil não deveria ter desapreç...</td>\n",
       "    </tr>\n",
       "  </tbody>\n",
       "</table>\n",
       "</div>"
      ],
      "text/plain": [
       "    dia        mes   ano origem  \\\n",
       "0     1  fevereiro  2017  Valor   \n",
       "1     1  fevereiro  2017  Valor   \n",
       "2     1  fevereiro  2017  Valor   \n",
       "3     1  fevereiro  2017  Valor   \n",
       "4     1  fevereiro  2017  Valor   \n",
       "5     1  fevereiro  2017  Valor   \n",
       "6     1  fevereiro  2017  Valor   \n",
       "7     1  fevereiro  2017  Globo   \n",
       "8     1  fevereiro  2017  Globo   \n",
       "9     1  fevereiro  2017  Globo   \n",
       "10    1  fevereiro  2017  Globo   \n",
       "11    1  fevereiro  2017  Globo   \n",
       "12    1  fevereiro  2017  Globo   \n",
       "13    1  fevereiro  2017  Globo   \n",
       "14    1  fevereiro  2017  Folha   \n",
       "15    1  fevereiro  2017  Folha   \n",
       "16    1  fevereiro  2017  Folha   \n",
       "17    1  fevereiro  2017  Folha   \n",
       "18    1  fevereiro  2017  Folha   \n",
       "19    1  fevereiro  2017  Folha   \n",
       "\n",
       "                                             manchete  \n",
       "0     BNDES encolhe e volta ao nível de 20 anos atrás  \n",
       "1     BC cria novo instrumento de política monetária.  \n",
       "2                Câmbio gera bate-boca entre UA e UE.  \n",
       "3   Indenização a transmissoras de energia já cheg...  \n",
       "4   Políticos esperam que relator separe \"joio do ...  \n",
       "5   Philips quer administrar hospitais públicos no...  \n",
       "6   Com vendas em queda, C&amp;C muda lojas e troc...  \n",
       "7    Fachin poderá ir para turma que julga Lava-Jato.  \n",
       "8     Eike tem multas que superam fundo para prisões.  \n",
       "9   Operador pagou decoração de luxo de imóveis de...  \n",
       "10        Drama do desemprego está longe de diminuir.  \n",
       "11                   BC prevê queda da inflação a 3%.  \n",
       "12                      Boicote atrasa governo Trump.  \n",
       "13                 Crivella negocia Vila dos Atletas.  \n",
       "14  Crise amplia diferença de salário entre CLT e ...  \n",
       "15  Governo faz cortes após déficit recorde de R$ ...  \n",
       "16  Vitória é dada como certa no Senado, e PMDB mi...  \n",
       "17  Operador diz que repatriou propina de Eike a C...  \n",
       "18  Doria quer punir pichadores com multa pesada e...  \n",
       "19  Pedro Parente: Brasil não deveria ter desapreç...  "
      ]
     },
     "execution_count": 15,
     "metadata": {
      "tags": []
     },
     "output_type": "execute_result"
    }
   ],
   "source": [
    "import pandas as pd \n",
    "\n",
    "manchetes = pd.read_csv('Manchetes.csv', encoding='utf-8', sep=',', quotechar=\"'\", names=[\"dia\", \"mes\",\"ano\",\"origem\",\"manchete\"])\n",
    "manchetes.head(n=20)"
   ]
  },
  {
   "cell_type": "markdown",
   "metadata": {
    "colab_type": "text",
    "id": "w-QkvvmFwfTM"
   },
   "source": [
    "O próximo passo é aplicar o filtro de pré-processamento dos dados as sentenças das manchetes da base de teste."
   ]
  },
  {
   "cell_type": "code",
   "execution_count": 0,
   "metadata": {
    "colab": {},
    "colab_type": "code",
    "id": "rbL49Qj2wfTP"
   },
   "outputs": [],
   "source": [
    "testes = [Preprocessing(m) for m in manchetes[\"manchete\"]]"
   ]
  },
  {
   "cell_type": "markdown",
   "metadata": {
    "colab_type": "text",
    "id": "qyYLjwBdwfTT"
   },
   "source": [
    "Aplicamos o vetorizador para o conjunto de dados de teste."
   ]
  },
  {
   "cell_type": "code",
   "execution_count": 0,
   "metadata": {
    "colab": {},
    "colab_type": "code",
    "id": "VGHxqhDVwfTV"
   },
   "outputs": [],
   "source": [
    "freq_testes = vectorizer.transform(testes)"
   ]
  },
  {
   "cell_type": "markdown",
   "metadata": {
    "colab_type": "text",
    "id": "KnIui1yOwfTZ"
   },
   "source": [
    "Por fim, para cada manchete presente na base , predizemos o resultado e apresentamos junto da noticia a sua classificação."
   ]
  },
  {
   "cell_type": "code",
   "execution_count": 0,
   "metadata": {
    "colab": {},
    "colab_type": "code",
    "id": "QNP5kDQewfTb",
    "outputId": "2963cc35-4439-4cef-a155-0598d18de606"
   },
   "outputs": [
    {
     "data": {
      "text/html": [
       "<div>\n",
       "<style scoped>\n",
       "    .dataframe tbody tr th:only-of-type {\n",
       "        vertical-align: middle;\n",
       "    }\n",
       "\n",
       "    .dataframe tbody tr th {\n",
       "        vertical-align: top;\n",
       "    }\n",
       "\n",
       "    .dataframe thead th {\n",
       "        text-align: right;\n",
       "    }\n",
       "</style>\n",
       "<table border=\"1\" class=\"dataframe\">\n",
       "  <thead>\n",
       "    <tr style=\"text-align: right;\">\n",
       "      <th></th>\n",
       "      <th>dia</th>\n",
       "      <th>mes</th>\n",
       "      <th>ano</th>\n",
       "      <th>origem</th>\n",
       "      <th>manchete</th>\n",
       "      <th>classificacao</th>\n",
       "    </tr>\n",
       "  </thead>\n",
       "  <tbody>\n",
       "    <tr>\n",
       "      <td>0</td>\n",
       "      <td>1</td>\n",
       "      <td>fevereiro</td>\n",
       "      <td>2017</td>\n",
       "      <td>Valor</td>\n",
       "      <td>BNDES encolhe e volta ao nível de 20 anos atrás</td>\n",
       "      <td>Neutro</td>\n",
       "    </tr>\n",
       "    <tr>\n",
       "      <td>1</td>\n",
       "      <td>1</td>\n",
       "      <td>fevereiro</td>\n",
       "      <td>2017</td>\n",
       "      <td>Valor</td>\n",
       "      <td>BC cria novo instrumento de política monetária.</td>\n",
       "      <td>Neutro</td>\n",
       "    </tr>\n",
       "    <tr>\n",
       "      <td>2</td>\n",
       "      <td>1</td>\n",
       "      <td>fevereiro</td>\n",
       "      <td>2017</td>\n",
       "      <td>Valor</td>\n",
       "      <td>Câmbio gera bate-boca entre UA e UE.</td>\n",
       "      <td>Neutro</td>\n",
       "    </tr>\n",
       "    <tr>\n",
       "      <td>3</td>\n",
       "      <td>1</td>\n",
       "      <td>fevereiro</td>\n",
       "      <td>2017</td>\n",
       "      <td>Valor</td>\n",
       "      <td>Indenização a transmissoras de energia já cheg...</td>\n",
       "      <td>Neutro</td>\n",
       "    </tr>\n",
       "    <tr>\n",
       "      <td>4</td>\n",
       "      <td>1</td>\n",
       "      <td>fevereiro</td>\n",
       "      <td>2017</td>\n",
       "      <td>Valor</td>\n",
       "      <td>Políticos esperam que relator separe \"joio do ...</td>\n",
       "      <td>Neutro</td>\n",
       "    </tr>\n",
       "    <tr>\n",
       "      <td>5</td>\n",
       "      <td>1</td>\n",
       "      <td>fevereiro</td>\n",
       "      <td>2017</td>\n",
       "      <td>Valor</td>\n",
       "      <td>Philips quer administrar hospitais públicos no...</td>\n",
       "      <td>Neutro</td>\n",
       "    </tr>\n",
       "    <tr>\n",
       "      <td>6</td>\n",
       "      <td>1</td>\n",
       "      <td>fevereiro</td>\n",
       "      <td>2017</td>\n",
       "      <td>Valor</td>\n",
       "      <td>Com vendas em queda, C&amp;amp;C muda lojas e troc...</td>\n",
       "      <td>Neutro</td>\n",
       "    </tr>\n",
       "    <tr>\n",
       "      <td>7</td>\n",
       "      <td>1</td>\n",
       "      <td>fevereiro</td>\n",
       "      <td>2017</td>\n",
       "      <td>Globo</td>\n",
       "      <td>Fachin poderá ir para turma que julga Lava-Jato.</td>\n",
       "      <td>Neutro</td>\n",
       "    </tr>\n",
       "    <tr>\n",
       "      <td>8</td>\n",
       "      <td>1</td>\n",
       "      <td>fevereiro</td>\n",
       "      <td>2017</td>\n",
       "      <td>Globo</td>\n",
       "      <td>Eike tem multas que superam fundo para prisões.</td>\n",
       "      <td>Neutro</td>\n",
       "    </tr>\n",
       "    <tr>\n",
       "      <td>9</td>\n",
       "      <td>1</td>\n",
       "      <td>fevereiro</td>\n",
       "      <td>2017</td>\n",
       "      <td>Globo</td>\n",
       "      <td>Operador pagou decoração de luxo de imóveis de...</td>\n",
       "      <td>Neutro</td>\n",
       "    </tr>\n",
       "    <tr>\n",
       "      <td>10</td>\n",
       "      <td>1</td>\n",
       "      <td>fevereiro</td>\n",
       "      <td>2017</td>\n",
       "      <td>Globo</td>\n",
       "      <td>Drama do desemprego está longe de diminuir.</td>\n",
       "      <td>Neutro</td>\n",
       "    </tr>\n",
       "    <tr>\n",
       "      <td>11</td>\n",
       "      <td>1</td>\n",
       "      <td>fevereiro</td>\n",
       "      <td>2017</td>\n",
       "      <td>Globo</td>\n",
       "      <td>BC prevê queda da inflação a 3%.</td>\n",
       "      <td>Positivo</td>\n",
       "    </tr>\n",
       "    <tr>\n",
       "      <td>12</td>\n",
       "      <td>1</td>\n",
       "      <td>fevereiro</td>\n",
       "      <td>2017</td>\n",
       "      <td>Globo</td>\n",
       "      <td>Boicote atrasa governo Trump.</td>\n",
       "      <td>Neutro</td>\n",
       "    </tr>\n",
       "    <tr>\n",
       "      <td>13</td>\n",
       "      <td>1</td>\n",
       "      <td>fevereiro</td>\n",
       "      <td>2017</td>\n",
       "      <td>Globo</td>\n",
       "      <td>Crivella negocia Vila dos Atletas.</td>\n",
       "      <td>Positivo</td>\n",
       "    </tr>\n",
       "    <tr>\n",
       "      <td>14</td>\n",
       "      <td>1</td>\n",
       "      <td>fevereiro</td>\n",
       "      <td>2017</td>\n",
       "      <td>Folha</td>\n",
       "      <td>Crise amplia diferença de salário entre CLT e ...</td>\n",
       "      <td>Neutro</td>\n",
       "    </tr>\n",
       "    <tr>\n",
       "      <td>15</td>\n",
       "      <td>1</td>\n",
       "      <td>fevereiro</td>\n",
       "      <td>2017</td>\n",
       "      <td>Folha</td>\n",
       "      <td>Governo faz cortes após déficit recorde de R$ ...</td>\n",
       "      <td>Negativo</td>\n",
       "    </tr>\n",
       "    <tr>\n",
       "      <td>16</td>\n",
       "      <td>1</td>\n",
       "      <td>fevereiro</td>\n",
       "      <td>2017</td>\n",
       "      <td>Folha</td>\n",
       "      <td>Vitória é dada como certa no Senado, e PMDB mi...</td>\n",
       "      <td>Neutro</td>\n",
       "    </tr>\n",
       "    <tr>\n",
       "      <td>17</td>\n",
       "      <td>1</td>\n",
       "      <td>fevereiro</td>\n",
       "      <td>2017</td>\n",
       "      <td>Folha</td>\n",
       "      <td>Operador diz que repatriou propina de Eike a C...</td>\n",
       "      <td>Positivo</td>\n",
       "    </tr>\n",
       "    <tr>\n",
       "      <td>18</td>\n",
       "      <td>1</td>\n",
       "      <td>fevereiro</td>\n",
       "      <td>2017</td>\n",
       "      <td>Folha</td>\n",
       "      <td>Doria quer punir pichadores com multa pesada e...</td>\n",
       "      <td>Neutro</td>\n",
       "    </tr>\n",
       "    <tr>\n",
       "      <td>19</td>\n",
       "      <td>1</td>\n",
       "      <td>fevereiro</td>\n",
       "      <td>2017</td>\n",
       "      <td>Folha</td>\n",
       "      <td>Pedro Parente: Brasil não deveria ter desapreç...</td>\n",
       "      <td>Neutro</td>\n",
       "    </tr>\n",
       "  </tbody>\n",
       "</table>\n",
       "</div>"
      ],
      "text/plain": [
       "    dia        mes   ano origem  \\\n",
       "0     1  fevereiro  2017  Valor   \n",
       "1     1  fevereiro  2017  Valor   \n",
       "2     1  fevereiro  2017  Valor   \n",
       "3     1  fevereiro  2017  Valor   \n",
       "4     1  fevereiro  2017  Valor   \n",
       "5     1  fevereiro  2017  Valor   \n",
       "6     1  fevereiro  2017  Valor   \n",
       "7     1  fevereiro  2017  Globo   \n",
       "8     1  fevereiro  2017  Globo   \n",
       "9     1  fevereiro  2017  Globo   \n",
       "10    1  fevereiro  2017  Globo   \n",
       "11    1  fevereiro  2017  Globo   \n",
       "12    1  fevereiro  2017  Globo   \n",
       "13    1  fevereiro  2017  Globo   \n",
       "14    1  fevereiro  2017  Folha   \n",
       "15    1  fevereiro  2017  Folha   \n",
       "16    1  fevereiro  2017  Folha   \n",
       "17    1  fevereiro  2017  Folha   \n",
       "18    1  fevereiro  2017  Folha   \n",
       "19    1  fevereiro  2017  Folha   \n",
       "\n",
       "                                             manchete classificacao  \n",
       "0     BNDES encolhe e volta ao nível de 20 anos atrás        Neutro  \n",
       "1     BC cria novo instrumento de política monetária.        Neutro  \n",
       "2                Câmbio gera bate-boca entre UA e UE.        Neutro  \n",
       "3   Indenização a transmissoras de energia já cheg...        Neutro  \n",
       "4   Políticos esperam que relator separe \"joio do ...        Neutro  \n",
       "5   Philips quer administrar hospitais públicos no...        Neutro  \n",
       "6   Com vendas em queda, C&amp;C muda lojas e troc...        Neutro  \n",
       "7    Fachin poderá ir para turma que julga Lava-Jato.        Neutro  \n",
       "8     Eike tem multas que superam fundo para prisões.        Neutro  \n",
       "9   Operador pagou decoração de luxo de imóveis de...        Neutro  \n",
       "10        Drama do desemprego está longe de diminuir.        Neutro  \n",
       "11                   BC prevê queda da inflação a 3%.      Positivo  \n",
       "12                      Boicote atrasa governo Trump.        Neutro  \n",
       "13                 Crivella negocia Vila dos Atletas.      Positivo  \n",
       "14  Crise amplia diferença de salário entre CLT e ...        Neutro  \n",
       "15  Governo faz cortes após déficit recorde de R$ ...      Negativo  \n",
       "16  Vitória é dada como certa no Senado, e PMDB mi...        Neutro  \n",
       "17  Operador diz que repatriou propina de Eike a C...      Positivo  \n",
       "18  Doria quer punir pichadores com multa pesada e...        Neutro  \n",
       "19  Pedro Parente: Brasil não deveria ter desapreç...        Neutro  "
      ]
     },
     "execution_count": 18,
     "metadata": {
      "tags": []
     },
     "output_type": "execute_result"
    }
   ],
   "source": [
    "for t, c in zip (manchetes[\"manchete\"] ,modelo.predict(freq_testes)):\n",
    "    manchetes[\"classificacao\"] = modelo.predict(freq_testes) \n",
    "    #print (\"Manchete: \" + t + \" - Classificação: \" + c)\n",
    "manchetes.head(n=20)"
   ]
  },
  {
   "cell_type": "markdown",
   "metadata": {
    "colab_type": "text",
    "id": "IJl1Bz8rwfTf"
   },
   "source": [
    "Podemos ver abaixo um vetor com as probabilidades de classificação dados os dados."
   ]
  },
  {
   "cell_type": "code",
   "execution_count": 0,
   "metadata": {
    "colab": {},
    "colab_type": "code",
    "id": "dOUopXO9wfTh",
    "outputId": "7fbbbe4a-e5fc-4780-df32-7bbfc952b568"
   },
   "outputs": [
    {
     "name": "stdout",
     "output_type": "stream",
     "text": [
      "['Negativo' 'Neutro' 'Positivo']\n"
     ]
    },
    {
     "data": {
      "text/plain": [
       "array([[0.01, 0.96, 0.04],\n",
       "       [0.07, 0.76, 0.17],\n",
       "       [0.09, 0.81, 0.11],\n",
       "       ...,\n",
       "       [0.06, 0.93, 0.01],\n",
       "       [0.52, 0.37, 0.11],\n",
       "       [0.21, 0.34, 0.45]])"
      ]
     },
     "execution_count": 19,
     "metadata": {
      "tags": []
     },
     "output_type": "execute_result"
    }
   ],
   "source": [
    "print (modelo.classes_)\n",
    "modelo.predict_proba(freq_testes).round(2)"
   ]
  },
  {
   "cell_type": "markdown",
   "metadata": {
    "colab_type": "text",
    "id": "n32rOrYKwfTl"
   },
   "source": [
    "# Avaliação do Modelo\n",
    "\n",
    "### Você concorda com os rótulos que seu algoritmo atribuiu?  \n",
    "  \n",
    "Sob uma análise superficial dos dados é possível verificar que as noticias que boa parte das noticias que foram classificadas como positivas e negativas foram rotuladas da maneira correta, existêm algumas exceções, mas considerando o fato de que não foram aplicadas tratativas de negação o resultado parece adequado.\n",
    "\n",
    "Entretanto, sob uma análise geral dos resultados de classificação é possível verificar que o modelo tende a classificar as noticias como neutras, talvêz com uma base rotulada maior e com uma variedade de temas mais amplo seria possível atingir melhores resultados durante a classificação das manchetes. É possível observar também que a base rotulada apresentava um número inferior de Tweets classificados negativos o que pode ter influênciado também na pouca quantidade de textos classificados como negativos."
   ]
  },
  {
   "cell_type": "code",
   "execution_count": 0,
   "metadata": {
    "colab": {},
    "colab_type": "code",
    "id": "fD3pqlHuwfTm",
    "outputId": "264b8de8-6ac5-4505-d3f1-07ebafdbca62"
   },
   "outputs": [
    {
     "data": {
      "text/plain": [
       "Neutro      381\n",
       "Positivo     72\n",
       "Negativo     47\n",
       "Name: classificacao, dtype: int64"
      ]
     },
     "execution_count": 20,
     "metadata": {
      "tags": []
     },
     "output_type": "execute_result"
    }
   ],
   "source": [
    "manchetes.classificacao.value_counts()"
   ]
  },
  {
   "cell_type": "code",
   "execution_count": 0,
   "metadata": {
    "colab": {},
    "colab_type": "code",
    "id": "DwWjieWBwfTv",
    "outputId": "392dca8c-b8da-4567-ac6f-87ea397e9f18"
   },
   "outputs": [
    {
     "data": {
      "text/plain": [
       "Positivo    2840\n",
       "Neutro      1974\n",
       "Negativo     951\n",
       "Name: Classificacao, dtype: int64"
      ]
     },
     "execution_count": 21,
     "metadata": {
      "tags": []
     },
     "output_type": "execute_result"
    }
   ],
   "source": [
    "df.Classificacao.value_counts()"
   ]
  },
  {
   "cell_type": "code",
   "execution_count": 0,
   "metadata": {
    "colab": {},
    "colab_type": "code",
    "id": "H5lz4Ar0wfT0",
    "outputId": "d0d36ff7-731d-4fca-cfcf-280d8907d308"
   },
   "outputs": [
    {
     "data": {
      "text/plain": [
       "<matplotlib.axes._subplots.AxesSubplot at 0x7f730e758940>"
      ]
     },
     "execution_count": 22,
     "metadata": {
      "tags": []
     },
     "output_type": "execute_result"
    },
    {
     "data": {
      "image/png": "[encoded data removed]",
      "text/plain": [
       "<Figure size 432x288 with 1 Axes>"
      ]
     },
     "metadata": {
      "needs_background": "light",
      "tags": []
     },
     "output_type": "display_data"
    }
   ],
   "source": [
    "%matplotlib inline\n",
    "manchetes.classificacao.value_counts().plot(kind='bar')"
   ]
  },
  {
   "cell_type": "markdown",
   "metadata": {
    "colab_type": "text",
    "id": "0xyMpUOMwfT4"
   },
   "source": [
    "\n",
    "### Foi possível descobrir algo relevante sobre os dados a partir da análise de sentimentos?\n",
    "  \n",
    "Levando em consideração que a base fornecida para os testes era equilibrada como é possível verificar no comando abaixo:"
   ]
  },
  {
   "cell_type": "code",
   "execution_count": 0,
   "metadata": {
    "colab": {},
    "colab_type": "code",
    "id": "WFIMzMIkwfT5",
    "outputId": "28cb082b-93d0-48aa-fb89-f29523122d52"
   },
   "outputs": [
    {
     "data": {
      "text/plain": [
       "Estado    129\n",
       "Folha     127\n",
       "Globo     126\n",
       "Valor     118\n",
       "Name: origem, dtype: int64"
      ]
     },
     "execution_count": 23,
     "metadata": {
      "tags": []
     },
     "output_type": "execute_result"
    }
   ],
   "source": [
    "manchetes.origem.value_counts()"
   ]
  },
  {
   "cell_type": "markdown",
   "metadata": {
    "colab_type": "text",
    "id": "1uvKKRajwfT-"
   },
   "source": [
    "Parace não haver relações entre as origem das manchetes e as suas classificações como positivas ou negativas.\n",
    "\n",
    "**Manchetes Positivas**"
   ]
  },
  {
   "cell_type": "code",
   "execution_count": 0,
   "metadata": {
    "colab": {},
    "colab_type": "code",
    "id": "y2Rd4i10wfT_",
    "outputId": "b32d7ade-f257-4f65-df12-d86dfddc5aba"
   },
   "outputs": [
    {
     "data": {
      "text/html": [
       "<div>\n",
       "<style scoped>\n",
       "    .dataframe tbody tr th:only-of-type {\n",
       "        vertical-align: middle;\n",
       "    }\n",
       "\n",
       "    .dataframe tbody tr th {\n",
       "        vertical-align: top;\n",
       "    }\n",
       "\n",
       "    .dataframe thead th {\n",
       "        text-align: right;\n",
       "    }\n",
       "</style>\n",
       "<table border=\"1\" class=\"dataframe\">\n",
       "  <thead>\n",
       "    <tr style=\"text-align: right;\">\n",
       "      <th></th>\n",
       "      <th>dia</th>\n",
       "      <th>mes</th>\n",
       "      <th>ano</th>\n",
       "      <th>origem</th>\n",
       "      <th>manchete</th>\n",
       "      <th>classificacao</th>\n",
       "    </tr>\n",
       "  </thead>\n",
       "  <tbody>\n",
       "    <tr>\n",
       "      <td>11</td>\n",
       "      <td>1</td>\n",
       "      <td>fevereiro</td>\n",
       "      <td>2017</td>\n",
       "      <td>Globo</td>\n",
       "      <td>BC prevê queda da inflação a 3%.</td>\n",
       "      <td>Positivo</td>\n",
       "    </tr>\n",
       "    <tr>\n",
       "      <td>13</td>\n",
       "      <td>1</td>\n",
       "      <td>fevereiro</td>\n",
       "      <td>2017</td>\n",
       "      <td>Globo</td>\n",
       "      <td>Crivella negocia Vila dos Atletas.</td>\n",
       "      <td>Positivo</td>\n",
       "    </tr>\n",
       "    <tr>\n",
       "      <td>17</td>\n",
       "      <td>1</td>\n",
       "      <td>fevereiro</td>\n",
       "      <td>2017</td>\n",
       "      <td>Folha</td>\n",
       "      <td>Operador diz que repatriou propina de Eike a C...</td>\n",
       "      <td>Positivo</td>\n",
       "    </tr>\n",
       "    <tr>\n",
       "      <td>22</td>\n",
       "      <td>1</td>\n",
       "      <td>fevereiro</td>\n",
       "      <td>2017</td>\n",
       "      <td>Estado</td>\n",
       "      <td>Financiamentos do BNDES têm maior queda em 22 ...</td>\n",
       "      <td>Positivo</td>\n",
       "    </tr>\n",
       "    <tr>\n",
       "      <td>24</td>\n",
       "      <td>1</td>\n",
       "      <td>fevereiro</td>\n",
       "      <td>2017</td>\n",
       "      <td>Estado</td>\n",
       "      <td>Desemprego atinge 12%.</td>\n",
       "      <td>Positivo</td>\n",
       "    </tr>\n",
       "  </tbody>\n",
       "</table>\n",
       "</div>"
      ],
      "text/plain": [
       "    dia        mes   ano  origem  \\\n",
       "11    1  fevereiro  2017   Globo   \n",
       "13    1  fevereiro  2017   Globo   \n",
       "17    1  fevereiro  2017   Folha   \n",
       "22    1  fevereiro  2017  Estado   \n",
       "24    1  fevereiro  2017  Estado   \n",
       "\n",
       "                                             manchete classificacao  \n",
       "11                   BC prevê queda da inflação a 3%.      Positivo  \n",
       "13                 Crivella negocia Vila dos Atletas.      Positivo  \n",
       "17  Operador diz que repatriou propina de Eike a C...      Positivo  \n",
       "22  Financiamentos do BNDES têm maior queda em 22 ...      Positivo  \n",
       "24                             Desemprego atinge 12%.      Positivo  "
      ]
     },
     "execution_count": 24,
     "metadata": {
      "tags": []
     },
     "output_type": "execute_result"
    }
   ],
   "source": [
    "manchetes_positivas = manchetes[manchetes.classificacao == \"Positivo\"]\n",
    "manchetes_positivas.head(n=5)"
   ]
  },
  {
   "cell_type": "code",
   "execution_count": 0,
   "metadata": {
    "colab": {},
    "colab_type": "code",
    "id": "nl_yE4MCwfUC",
    "outputId": "03da7c07-6d7c-4168-b907-19990ed30275"
   },
   "outputs": [
    {
     "data": {
      "text/plain": [
       "Estado    22\n",
       "Globo     22\n",
       "Valor     15\n",
       "Folha     13\n",
       "Name: origem, dtype: int64"
      ]
     },
     "execution_count": 25,
     "metadata": {
      "tags": []
     },
     "output_type": "execute_result"
    }
   ],
   "source": [
    "manchetes_positivas.origem.value_counts()"
   ]
  },
  {
   "cell_type": "code",
   "execution_count": 0,
   "metadata": {
    "colab": {},
    "colab_type": "code",
    "id": "uIuZ5tuHwfUF",
    "outputId": "45741237-ad73-4246-94b5-67e5b817caf5"
   },
   "outputs": [
    {
     "data": {
      "text/plain": [
       "<matplotlib.axes._subplots.AxesSubplot at 0x7f730e03a7f0>"
      ]
     },
     "execution_count": 26,
     "metadata": {
      "tags": []
     },
     "output_type": "execute_result"
    },
    {
     "data": {
      "image/png": "[encoded data removed]",
      "text/plain": [
       "<Figure size 432x288 with 1 Axes>"
      ]
     },
     "metadata": {
      "needs_background": "light",
      "tags": []
     },
     "output_type": "display_data"
    }
   ],
   "source": [
    "%matplotlib inline\n",
    "manchetes_positivas.origem.value_counts().plot(kind='bar')"
   ]
  },
  {
   "cell_type": "markdown",
   "metadata": {
    "colab_type": "text",
    "id": "UDnOGdclwfUJ"
   },
   "source": [
    "Levando em consideração os meses em que as noticias ocorreram, o mês de janeiro apresenta uma quantidade maior de noticias positivas."
   ]
  },
  {
   "cell_type": "code",
   "execution_count": 0,
   "metadata": {
    "colab": {},
    "colab_type": "code",
    "id": "l-2uiY6VwfUK",
    "outputId": "a0ec451f-bd0e-47d9-8bd9-6cec731cf4d3"
   },
   "outputs": [
    {
     "data": {
      "text/plain": [
       "janeiro      11\n",
       "fevereiro    10\n",
       "julho        10\n",
       "março         9\n",
       "junho         8\n",
       "dezembro      7\n",
       "maio          7\n",
       "agosto        7\n",
       "abril         3\n",
       "Name: mes, dtype: int64"
      ]
     },
     "execution_count": 27,
     "metadata": {
      "tags": []
     },
     "output_type": "execute_result"
    }
   ],
   "source": [
    "manchetes_positivas.mes.value_counts()"
   ]
  },
  {
   "cell_type": "code",
   "execution_count": 0,
   "metadata": {
    "colab": {},
    "colab_type": "code",
    "id": "p0LPdAhgwfUN",
    "outputId": "f9136cc5-09ca-4e3d-eee7-f0b1d1d9adbe"
   },
   "outputs": [
    {
     "data": {
      "text/plain": [
       "<matplotlib.axes._subplots.AxesSubplot at 0x7f730d94db38>"
      ]
     },
     "execution_count": 28,
     "metadata": {
      "tags": []
     },
     "output_type": "execute_result"
    },
    {
     "data": {
      "image/png": "[encoded data removed]",
      "text/plain": [
       "<Figure size 432x288 with 1 Axes>"
      ]
     },
     "metadata": {
      "needs_background": "light",
      "tags": []
     },
     "output_type": "display_data"
    }
   ],
   "source": [
    "%matplotlib inline\n",
    "manchetes_positivas.mes.value_counts().plot(kind='bar')"
   ]
  },
  {
   "cell_type": "markdown",
   "metadata": {
    "colab_type": "text",
    "id": "PXv8JJxVwfUS"
   },
   "source": [
    "**Manchetes Negativas**"
   ]
  },
  {
   "cell_type": "code",
   "execution_count": 0,
   "metadata": {
    "colab": {},
    "colab_type": "code",
    "id": "s9wT81BKwfUU",
    "outputId": "3e5561d8-2928-4983-b638-1e29a0df07c7"
   },
   "outputs": [
    {
     "data": {
      "text/html": [
       "<div>\n",
       "<style scoped>\n",
       "    .dataframe tbody tr th:only-of-type {\n",
       "        vertical-align: middle;\n",
       "    }\n",
       "\n",
       "    .dataframe tbody tr th {\n",
       "        vertical-align: top;\n",
       "    }\n",
       "\n",
       "    .dataframe thead th {\n",
       "        text-align: right;\n",
       "    }\n",
       "</style>\n",
       "<table border=\"1\" class=\"dataframe\">\n",
       "  <thead>\n",
       "    <tr style=\"text-align: right;\">\n",
       "      <th></th>\n",
       "      <th>dia</th>\n",
       "      <th>mes</th>\n",
       "      <th>ano</th>\n",
       "      <th>origem</th>\n",
       "      <th>manchete</th>\n",
       "      <th>classificacao</th>\n",
       "    </tr>\n",
       "  </thead>\n",
       "  <tbody>\n",
       "    <tr>\n",
       "      <td>15</td>\n",
       "      <td>1</td>\n",
       "      <td>fevereiro</td>\n",
       "      <td>2017</td>\n",
       "      <td>Folha</td>\n",
       "      <td>Governo faz cortes após déficit recorde de R$ ...</td>\n",
       "      <td>Negativo</td>\n",
       "    </tr>\n",
       "    <tr>\n",
       "      <td>35</td>\n",
       "      <td>1</td>\n",
       "      <td>março</td>\n",
       "      <td>2017</td>\n",
       "      <td>Globo</td>\n",
       "      <td>Fé da Mangueira leva Estandarte.</td>\n",
       "      <td>Negativo</td>\n",
       "    </tr>\n",
       "    <tr>\n",
       "      <td>66</td>\n",
       "      <td>1</td>\n",
       "      <td>junho</td>\n",
       "      <td>2017</td>\n",
       "      <td>Globo</td>\n",
       "      <td>Joesley deu dinheiro a firma da qual filho de ...</td>\n",
       "      <td>Negativo</td>\n",
       "    </tr>\n",
       "    <tr>\n",
       "      <td>75</td>\n",
       "      <td>1</td>\n",
       "      <td>junho</td>\n",
       "      <td>2017</td>\n",
       "      <td>Folha</td>\n",
       "      <td>Governo prevê dívida fixa e fim de carência no...</td>\n",
       "      <td>Negativo</td>\n",
       "    </tr>\n",
       "    <tr>\n",
       "      <td>79</td>\n",
       "      <td>1</td>\n",
       "      <td>junho</td>\n",
       "      <td>2017</td>\n",
       "      <td>Estado</td>\n",
       "      <td>Ala do PSDB articula saída do governo antes de...</td>\n",
       "      <td>Negativo</td>\n",
       "    </tr>\n",
       "  </tbody>\n",
       "</table>\n",
       "</div>"
      ],
      "text/plain": [
       "    dia        mes   ano  origem  \\\n",
       "15    1  fevereiro  2017   Folha   \n",
       "35    1      março  2017   Globo   \n",
       "66    1      junho  2017   Globo   \n",
       "75    1      junho  2017   Folha   \n",
       "79    1      junho  2017  Estado   \n",
       "\n",
       "                                             manchete classificacao  \n",
       "15  Governo faz cortes após déficit recorde de R$ ...      Negativo  \n",
       "35                   Fé da Mangueira leva Estandarte.      Negativo  \n",
       "66  Joesley deu dinheiro a firma da qual filho de ...      Negativo  \n",
       "75  Governo prevê dívida fixa e fim de carência no...      Negativo  \n",
       "79  Ala do PSDB articula saída do governo antes de...      Negativo  "
      ]
     },
     "execution_count": 29,
     "metadata": {
      "tags": []
     },
     "output_type": "execute_result"
    }
   ],
   "source": [
    "manchetes_negativas = manchetes[manchetes.classificacao == \"Negativo\"]\n",
    "manchetes_negativas.head(n=5)"
   ]
  },
  {
   "cell_type": "code",
   "execution_count": 0,
   "metadata": {
    "colab": {},
    "colab_type": "code",
    "id": "iT62sBA5wfUY",
    "outputId": "bde23d81-97ea-4809-c406-d97703c06ec6"
   },
   "outputs": [
    {
     "data": {
      "text/plain": [
       "Globo     14\n",
       "Valor     12\n",
       "Estado    11\n",
       "Folha     10\n",
       "Name: origem, dtype: int64"
      ]
     },
     "execution_count": 30,
     "metadata": {
      "tags": []
     },
     "output_type": "execute_result"
    }
   ],
   "source": [
    "manchetes_negativas.origem.value_counts()"
   ]
  },
  {
   "cell_type": "code",
   "execution_count": 0,
   "metadata": {
    "colab": {},
    "colab_type": "code",
    "id": "ftVmJoFQwfUa",
    "outputId": "bce129d9-0a04-4212-a14d-e8dbca488117"
   },
   "outputs": [
    {
     "data": {
      "text/plain": [
       "<matplotlib.axes._subplots.AxesSubplot at 0x7f730d8d3320>"
      ]
     },
     "execution_count": 31,
     "metadata": {
      "tags": []
     },
     "output_type": "execute_result"
    },
    {
     "data": {
      "image/png": "[encoded data removed]",
      "text/plain": [
       "<Figure size 432x288 with 1 Axes>"
      ]
     },
     "metadata": {
      "needs_background": "light",
      "tags": []
     },
     "output_type": "display_data"
    }
   ],
   "source": [
    "%matplotlib inline\n",
    "manchetes_negativas.origem.value_counts().plot(kind='bar')"
   ]
  },
  {
   "cell_type": "markdown",
   "metadata": {
    "colab_type": "text",
    "id": "ldgLjuP4wfUd"
   },
   "source": [
    "Levando em consideração os meses em que as noticias ocorreram, o mês de dezembro apresenta uma quantidade consideravelmente maior de noticias negativas."
   ]
  },
  {
   "cell_type": "code",
   "execution_count": 0,
   "metadata": {
    "colab": {},
    "colab_type": "code",
    "id": "-HEj3f3UwfUf",
    "outputId": "2572a068-0e75-4f09-d1de-a5a19df2e61a"
   },
   "outputs": [
    {
     "data": {
      "text/plain": [
       "dezembro     10\n",
       "janeiro       7\n",
       "julho         7\n",
       "junho         6\n",
       "maio          5\n",
       "abril         4\n",
       "fevereiro     3\n",
       "agosto        3\n",
       "março         2\n",
       "Name: mes, dtype: int64"
      ]
     },
     "execution_count": 32,
     "metadata": {
      "tags": []
     },
     "output_type": "execute_result"
    }
   ],
   "source": [
    "manchetes_negativas.mes.value_counts()"
   ]
  },
  {
   "cell_type": "code",
   "execution_count": 0,
   "metadata": {
    "colab": {},
    "colab_type": "code",
    "id": "DIws5ysKwfUl",
    "outputId": "c7a094d2-cc33-4ce4-e742-b5ab341e03f9"
   },
   "outputs": [
    {
     "data": {
      "text/plain": [
       "<matplotlib.axes._subplots.AxesSubplot at 0x7f730d94d7f0>"
      ]
     },
     "execution_count": 33,
     "metadata": {
      "tags": []
     },
     "output_type": "execute_result"
    },
    {
     "data": {
      "image/png": "[encoded data removed]",
      "text/plain": [
       "<Figure size 432x288 with 1 Axes>"
      ]
     },
     "metadata": {
      "needs_background": "light",
      "tags": []
     },
     "output_type": "display_data"
    }
   ],
   "source": [
    "%matplotlib inline\n",
    "manchetes_negativas.mes.value_counts().plot(kind='bar')"
   ]
  },
  {
   "cell_type": "markdown",
   "metadata": {
    "colab_type": "text",
    "id": "XZWAUJxCwfUo"
   },
   "source": [
    "**Manchetes Neutras**"
   ]
  },
  {
   "cell_type": "code",
   "execution_count": 0,
   "metadata": {
    "colab": {},
    "colab_type": "code",
    "id": "Tug0zojjwfUp",
    "outputId": "043404a7-7c12-44c4-c47a-e30f7c8cb6fb",
    "scrolled": true
   },
   "outputs": [
    {
     "data": {
      "text/html": [
       "<div>\n",
       "<style scoped>\n",
       "    .dataframe tbody tr th:only-of-type {\n",
       "        vertical-align: middle;\n",
       "    }\n",
       "\n",
       "    .dataframe tbody tr th {\n",
       "        vertical-align: top;\n",
       "    }\n",
       "\n",
       "    .dataframe thead th {\n",
       "        text-align: right;\n",
       "    }\n",
       "</style>\n",
       "<table border=\"1\" class=\"dataframe\">\n",
       "  <thead>\n",
       "    <tr style=\"text-align: right;\">\n",
       "      <th></th>\n",
       "      <th>dia</th>\n",
       "      <th>mes</th>\n",
       "      <th>ano</th>\n",
       "      <th>origem</th>\n",
       "      <th>manchete</th>\n",
       "      <th>classificacao</th>\n",
       "    </tr>\n",
       "  </thead>\n",
       "  <tbody>\n",
       "    <tr>\n",
       "      <td>0</td>\n",
       "      <td>1</td>\n",
       "      <td>fevereiro</td>\n",
       "      <td>2017</td>\n",
       "      <td>Valor</td>\n",
       "      <td>BNDES encolhe e volta ao nível de 20 anos atrás</td>\n",
       "      <td>Neutro</td>\n",
       "    </tr>\n",
       "    <tr>\n",
       "      <td>1</td>\n",
       "      <td>1</td>\n",
       "      <td>fevereiro</td>\n",
       "      <td>2017</td>\n",
       "      <td>Valor</td>\n",
       "      <td>BC cria novo instrumento de política monetária.</td>\n",
       "      <td>Neutro</td>\n",
       "    </tr>\n",
       "    <tr>\n",
       "      <td>2</td>\n",
       "      <td>1</td>\n",
       "      <td>fevereiro</td>\n",
       "      <td>2017</td>\n",
       "      <td>Valor</td>\n",
       "      <td>Câmbio gera bate-boca entre UA e UE.</td>\n",
       "      <td>Neutro</td>\n",
       "    </tr>\n",
       "    <tr>\n",
       "      <td>3</td>\n",
       "      <td>1</td>\n",
       "      <td>fevereiro</td>\n",
       "      <td>2017</td>\n",
       "      <td>Valor</td>\n",
       "      <td>Indenização a transmissoras de energia já cheg...</td>\n",
       "      <td>Neutro</td>\n",
       "    </tr>\n",
       "    <tr>\n",
       "      <td>4</td>\n",
       "      <td>1</td>\n",
       "      <td>fevereiro</td>\n",
       "      <td>2017</td>\n",
       "      <td>Valor</td>\n",
       "      <td>Políticos esperam que relator separe \"joio do ...</td>\n",
       "      <td>Neutro</td>\n",
       "    </tr>\n",
       "  </tbody>\n",
       "</table>\n",
       "</div>"
      ],
      "text/plain": [
       "   dia        mes   ano origem  \\\n",
       "0    1  fevereiro  2017  Valor   \n",
       "1    1  fevereiro  2017  Valor   \n",
       "2    1  fevereiro  2017  Valor   \n",
       "3    1  fevereiro  2017  Valor   \n",
       "4    1  fevereiro  2017  Valor   \n",
       "\n",
       "                                            manchete classificacao  \n",
       "0    BNDES encolhe e volta ao nível de 20 anos atrás        Neutro  \n",
       "1    BC cria novo instrumento de política monetária.        Neutro  \n",
       "2               Câmbio gera bate-boca entre UA e UE.        Neutro  \n",
       "3  Indenização a transmissoras de energia já cheg...        Neutro  \n",
       "4  Políticos esperam que relator separe \"joio do ...        Neutro  "
      ]
     },
     "execution_count": 34,
     "metadata": {
      "tags": []
     },
     "output_type": "execute_result"
    }
   ],
   "source": [
    "manchetes_neutras = manchetes[manchetes.classificacao == \"Neutro\"]\n",
    "manchetes_neutras.head(n=5)"
   ]
  },
  {
   "cell_type": "code",
   "execution_count": 0,
   "metadata": {
    "colab": {},
    "colab_type": "code",
    "id": "mw44HpLgwfUv",
    "outputId": "d51ed860-5394-43a0-eac0-1eb53cce7a23"
   },
   "outputs": [
    {
     "data": {
      "text/plain": [
       "Folha     104\n",
       "Estado     96\n",
       "Valor      91\n",
       "Globo      90\n",
       "Name: origem, dtype: int64"
      ]
     },
     "execution_count": 35,
     "metadata": {
      "tags": []
     },
     "output_type": "execute_result"
    }
   ],
   "source": [
    "manchetes_neutras.origem.value_counts()"
   ]
  },
  {
   "cell_type": "code",
   "execution_count": 0,
   "metadata": {
    "colab": {},
    "colab_type": "code",
    "id": "tzhYteOXwfU1",
    "outputId": "3214a6b1-d4e8-4dbe-d6b6-c3da58e69b01"
   },
   "outputs": [
    {
     "data": {
      "text/plain": [
       "<matplotlib.axes._subplots.AxesSubplot at 0x7f730d7bd128>"
      ]
     },
     "execution_count": 36,
     "metadata": {
      "tags": []
     },
     "output_type": "execute_result"
    },
    {
     "data": {
      "image/png": "[encoded data removed]",
      "text/plain": [
       "<Figure size 432x288 with 1 Axes>"
      ]
     },
     "metadata": {
      "needs_background": "light",
      "tags": []
     },
     "output_type": "display_data"
    }
   ],
   "source": [
    "%matplotlib inline\n",
    "manchetes_neutras.origem.value_counts().plot(kind='bar')"
   ]
  },
  {
   "cell_type": "code",
   "execution_count": 0,
   "metadata": {
    "colab": {},
    "colab_type": "code",
    "id": "4O1-GOh3wfU3",
    "outputId": "eeee7308-737a-429f-ee8d-e758ad215202"
   },
   "outputs": [
    {
     "data": {
      "text/plain": [
       "junho        52\n",
       "dezembro     52\n",
       "março        48\n",
       "maio         44\n",
       "fevereiro    42\n",
       "abril        40\n",
       "janeiro      38\n",
       "julho        33\n",
       "agosto       32\n",
       "Name: mes, dtype: int64"
      ]
     },
     "execution_count": 37,
     "metadata": {
      "tags": []
     },
     "output_type": "execute_result"
    }
   ],
   "source": [
    "manchetes_neutras.mes.value_counts()"
   ]
  },
  {
   "cell_type": "code",
   "execution_count": 0,
   "metadata": {
    "colab": {},
    "colab_type": "code",
    "id": "HuRIZIOgwfU6",
    "outputId": "a926209e-9193-413a-c4e4-74daf5d12213"
   },
   "outputs": [
    {
     "data": {
      "text/plain": [
       "<matplotlib.axes._subplots.AxesSubplot at 0x7f730d79bba8>"
      ]
     },
     "execution_count": 38,
     "metadata": {
      "tags": []
     },
     "output_type": "execute_result"
    },
    {
     "data": {
      "image/png": "[encoded data removed]",
      "text/plain": [
       "<Figure size 432x288 with 1 Axes>"
      ]
     },
     "metadata": {
      "needs_background": "light",
      "tags": []
     },
     "output_type": "display_data"
    }
   ],
   "source": [
    "%matplotlib inline\n",
    "manchetes_neutras.mes.value_counts().plot(kind='bar')"
   ]
  },
  {
   "cell_type": "markdown",
   "metadata": {
    "colab_type": "text",
    "id": "hUta23YcwfU-"
   },
   "source": [
    "### Considerando que nenhum modelo é perfeito, quais são os pontos fracos do algoritmo implementado? Quais seriam pontos fortes?\n",
    "  \n",
    "O principal ponto fraco do modelo implementado é de que o mesmo classifica boa parte das manchetes como neutras.\n",
    "É possível que pelo fato de as bases de treinamento e teste possuirem modos de escrita diferentes (formal/informal) e pela quantidade pequena de dados o modelo de classificação não têm parâmetros suficientes para rotular de maneira mais adequada a base de teste.\n",
    "\n",
    "Os pontos positivos são a grande quantidade de material de referência disponível na internet para a consulta e que numa pesquisa mais extensa e aprofundada resultaria claramente em resultados melhores.\n"
   ]
  },
  {
   "cell_type": "markdown",
   "metadata": {
    "colab_type": "text",
    "id": "zAQFxKHdwfVA"
   },
   "source": [
    "# Lições aprendidas\n",
    "\n",
    "Com a execução desta tarefa, pude me aprofundar e ter uma introdução sobre diferentes áreas da computação, sendo elas a de aprendizagem de máquina e de processamento de linguagem natural. Pude aprofundar meus conhecimentos na linguagem de programação Python e sob a sua extensa lista de bibliotecas, a qual apesar de já ter tido um contato considerável com a mesma acadêmica e profissionalmente, não havia explorado ainda os temas apontados anteriormente.\n",
    "\n",
    "Tenho certeza de que os conhecimentos aprendidos com a execução desta atividade certamente serão aplicados novamente no futuro em novas pesquisas na área de computação afetiva que tenho interesse em explorar."
   ]
  }
 ],
 "metadata": {
  "colab": {
   "name": "T2 - IA369Y_2S2019 -  Análise de Sentimentos.ipynb",
   "provenance": []
  },
  "kernelspec": {
   "display_name": "Python 3",
   "language": "python",
   "name": "python3"
  },
  "language_info": {
   "codemirror_mode": {
    "name": "ipython",
    "version": 3
   },
   "file_extension": ".py",
   "mimetype": "text/x-python",
   "name": "python",
   "nbconvert_exporter": "python",
   "pygments_lexer": "ipython3",
   "version": "3.6.5"
  }
 },
 "nbformat": 4,
 "nbformat_minor": 1
}
